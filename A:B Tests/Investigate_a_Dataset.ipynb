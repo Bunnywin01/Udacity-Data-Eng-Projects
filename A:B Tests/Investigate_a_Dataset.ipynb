{
 "cells": [
  {
   "cell_type": "markdown",
   "metadata": {},
   "source": [
    "Project 1: Investigate a Dataset \n",
    "# What we can see from the firearm background checks from FBI!\n",
    "\n",
    "## Table of Contents\n",
    "<ul>\n",
    "<li><a href=\"#intro\">Introduction</a></li>\n",
    "<li><a href=\"#wrangling\">Data Wrangling</a></li>\n",
    "<li><a href=\"#eda\">Exploratory Data Analysis</a></li>\n",
    "<li><a href=\"#conclusions\">Conclusions</a></li>\n",
    "</ul>"
   ]
  },
  {
   "cell_type": "markdown",
   "metadata": {},
   "source": [
    "<a id='intro'></a>\n",
    "## Introduction\n",
    "\n",
    "I chose the FBI Gun Data. \n",
    "There are two dataframes for this project, one is the nics firearm background checks dataframe(Github provied the latest version of this gun data which includes all data till 12/2019. So I downloaded this one from Github.) and another one a census dataframe.\n",
    "The nics firearm background checks data is from FBI's National Instant Criminal Background Check System, which provides data on the number of firearm checks by month, state, and type from 1998-11 to 2019-12; the census data includes information about population, education, income and race etc in the 50 states of the USA in sevaral years."
   ]
  },
  {
   "cell_type": "code",
   "execution_count": 1,
   "metadata": {},
   "outputs": [],
   "source": [
    "#packages I need\n",
    "import pandas as pd\n",
    "import numpy as np\n",
    "import matplotlib.pyplot as plt\n",
    "import datetime\n",
    "import seaborn as sns\n",
    "%matplotlib inline"
   ]
  },
  {
   "cell_type": "markdown",
   "metadata": {},
   "source": [
    "<a id='wrangling'></a>\n",
    "## Data Wrangling\n",
    "\n",
    "\n",
    "### General Properties\n",
    "I loaded the two datasets and had a look at the general infomation of them"
   ]
  },
  {
   "cell_type": "code",
   "execution_count": 2,
   "metadata": {},
   "outputs": [],
   "source": [
    "df_gun = pd.read_csv('nics-firearm-background-checks.csv')\n",
    "df_cen = pd.read_csv('u.s.-census-data.csv')"
   ]
  },
  {
   "cell_type": "code",
   "execution_count": 3,
   "metadata": {},
   "outputs": [
    {
     "data": {
      "text/html": [
       "<div>\n",
       "<style scoped>\n",
       "    .dataframe tbody tr th:only-of-type {\n",
       "        vertical-align: middle;\n",
       "    }\n",
       "\n",
       "    .dataframe tbody tr th {\n",
       "        vertical-align: top;\n",
       "    }\n",
       "\n",
       "    .dataframe thead th {\n",
       "        text-align: right;\n",
       "    }\n",
       "</style>\n",
       "<table border=\"1\" class=\"dataframe\">\n",
       "  <thead>\n",
       "    <tr style=\"text-align: right;\">\n",
       "      <th></th>\n",
       "      <th>month</th>\n",
       "      <th>state</th>\n",
       "      <th>permit</th>\n",
       "      <th>permit_recheck</th>\n",
       "      <th>handgun</th>\n",
       "      <th>long_gun</th>\n",
       "      <th>other</th>\n",
       "      <th>multiple</th>\n",
       "      <th>admin</th>\n",
       "      <th>prepawn_handgun</th>\n",
       "      <th>...</th>\n",
       "      <th>returned_other</th>\n",
       "      <th>rentals_handgun</th>\n",
       "      <th>rentals_long_gun</th>\n",
       "      <th>private_sale_handgun</th>\n",
       "      <th>private_sale_long_gun</th>\n",
       "      <th>private_sale_other</th>\n",
       "      <th>return_to_seller_handgun</th>\n",
       "      <th>return_to_seller_long_gun</th>\n",
       "      <th>return_to_seller_other</th>\n",
       "      <th>totals</th>\n",
       "    </tr>\n",
       "  </thead>\n",
       "  <tbody>\n",
       "    <tr>\n",
       "      <th>0</th>\n",
       "      <td>2019-12</td>\n",
       "      <td>Alabama</td>\n",
       "      <td>33683.0</td>\n",
       "      <td>485.0</td>\n",
       "      <td>33020.0</td>\n",
       "      <td>25882.0</td>\n",
       "      <td>1560.0</td>\n",
       "      <td>1382</td>\n",
       "      <td>0.0</td>\n",
       "      <td>42.0</td>\n",
       "      <td>...</td>\n",
       "      <td>0.0</td>\n",
       "      <td>0.0</td>\n",
       "      <td>0.0</td>\n",
       "      <td>53.0</td>\n",
       "      <td>31.0</td>\n",
       "      <td>8.0</td>\n",
       "      <td>1.0</td>\n",
       "      <td>6.0</td>\n",
       "      <td>0.0</td>\n",
       "      <td>100100</td>\n",
       "    </tr>\n",
       "    <tr>\n",
       "      <th>1</th>\n",
       "      <td>2019-12</td>\n",
       "      <td>Alaska</td>\n",
       "      <td>386.0</td>\n",
       "      <td>13.0</td>\n",
       "      <td>3455.0</td>\n",
       "      <td>3080.0</td>\n",
       "      <td>397.0</td>\n",
       "      <td>215</td>\n",
       "      <td>0.0</td>\n",
       "      <td>2.0</td>\n",
       "      <td>...</td>\n",
       "      <td>0.0</td>\n",
       "      <td>0.0</td>\n",
       "      <td>0.0</td>\n",
       "      <td>18.0</td>\n",
       "      <td>13.0</td>\n",
       "      <td>1.0</td>\n",
       "      <td>0.0</td>\n",
       "      <td>0.0</td>\n",
       "      <td>0.0</td>\n",
       "      <td>7840</td>\n",
       "    </tr>\n",
       "    <tr>\n",
       "      <th>2</th>\n",
       "      <td>2019-12</td>\n",
       "      <td>Arizona</td>\n",
       "      <td>4536.0</td>\n",
       "      <td>649.0</td>\n",
       "      <td>18178.0</td>\n",
       "      <td>10423.0</td>\n",
       "      <td>1560.0</td>\n",
       "      <td>1109</td>\n",
       "      <td>0.0</td>\n",
       "      <td>8.0</td>\n",
       "      <td>...</td>\n",
       "      <td>2.0</td>\n",
       "      <td>0.0</td>\n",
       "      <td>0.0</td>\n",
       "      <td>20.0</td>\n",
       "      <td>6.0</td>\n",
       "      <td>2.0</td>\n",
       "      <td>0.0</td>\n",
       "      <td>0.0</td>\n",
       "      <td>0.0</td>\n",
       "      <td>38171</td>\n",
       "    </tr>\n",
       "    <tr>\n",
       "      <th>3</th>\n",
       "      <td>2019-12</td>\n",
       "      <td>Arkansas</td>\n",
       "      <td>2339.0</td>\n",
       "      <td>638.0</td>\n",
       "      <td>8671.0</td>\n",
       "      <td>10957.0</td>\n",
       "      <td>531.0</td>\n",
       "      <td>458</td>\n",
       "      <td>3.0</td>\n",
       "      <td>10.0</td>\n",
       "      <td>...</td>\n",
       "      <td>0.0</td>\n",
       "      <td>0.0</td>\n",
       "      <td>0.0</td>\n",
       "      <td>10.0</td>\n",
       "      <td>16.0</td>\n",
       "      <td>3.0</td>\n",
       "      <td>0.0</td>\n",
       "      <td>1.0</td>\n",
       "      <td>0.0</td>\n",
       "      <td>25699</td>\n",
       "    </tr>\n",
       "    <tr>\n",
       "      <th>4</th>\n",
       "      <td>2019-12</td>\n",
       "      <td>California</td>\n",
       "      <td>29544.0</td>\n",
       "      <td>0.0</td>\n",
       "      <td>40637.0</td>\n",
       "      <td>30780.0</td>\n",
       "      <td>4883.0</td>\n",
       "      <td>0</td>\n",
       "      <td>0.0</td>\n",
       "      <td>0.0</td>\n",
       "      <td>...</td>\n",
       "      <td>0.0</td>\n",
       "      <td>0.0</td>\n",
       "      <td>0.0</td>\n",
       "      <td>0.0</td>\n",
       "      <td>0.0</td>\n",
       "      <td>0.0</td>\n",
       "      <td>0.0</td>\n",
       "      <td>0.0</td>\n",
       "      <td>0.0</td>\n",
       "      <td>106600</td>\n",
       "    </tr>\n",
       "  </tbody>\n",
       "</table>\n",
       "<p>5 rows × 27 columns</p>\n",
       "</div>"
      ],
      "text/plain": [
       "     month       state   permit  permit_recheck  handgun  long_gun   other  \\\n",
       "0  2019-12     Alabama  33683.0           485.0  33020.0   25882.0  1560.0   \n",
       "1  2019-12      Alaska    386.0            13.0   3455.0    3080.0   397.0   \n",
       "2  2019-12     Arizona   4536.0           649.0  18178.0   10423.0  1560.0   \n",
       "3  2019-12    Arkansas   2339.0           638.0   8671.0   10957.0   531.0   \n",
       "4  2019-12  California  29544.0             0.0  40637.0   30780.0  4883.0   \n",
       "\n",
       "   multiple  admin  prepawn_handgun   ...    returned_other  rentals_handgun  \\\n",
       "0      1382    0.0             42.0   ...               0.0              0.0   \n",
       "1       215    0.0              2.0   ...               0.0              0.0   \n",
       "2      1109    0.0              8.0   ...               2.0              0.0   \n",
       "3       458    3.0             10.0   ...               0.0              0.0   \n",
       "4         0    0.0              0.0   ...               0.0              0.0   \n",
       "\n",
       "   rentals_long_gun  private_sale_handgun  private_sale_long_gun  \\\n",
       "0               0.0                  53.0                   31.0   \n",
       "1               0.0                  18.0                   13.0   \n",
       "2               0.0                  20.0                    6.0   \n",
       "3               0.0                  10.0                   16.0   \n",
       "4               0.0                   0.0                    0.0   \n",
       "\n",
       "   private_sale_other  return_to_seller_handgun  return_to_seller_long_gun  \\\n",
       "0                 8.0                       1.0                        6.0   \n",
       "1                 1.0                       0.0                        0.0   \n",
       "2                 2.0                       0.0                        0.0   \n",
       "3                 3.0                       0.0                        1.0   \n",
       "4                 0.0                       0.0                        0.0   \n",
       "\n",
       "   return_to_seller_other  totals  \n",
       "0                     0.0  100100  \n",
       "1                     0.0    7840  \n",
       "2                     0.0   38171  \n",
       "3                     0.0   25699  \n",
       "4                     0.0  106600  \n",
       "\n",
       "[5 rows x 27 columns]"
      ]
     },
     "execution_count": 3,
     "metadata": {},
     "output_type": "execute_result"
    }
   ],
   "source": [
    "df_gun.head()"
   ]
  },
  {
   "cell_type": "code",
   "execution_count": 4,
   "metadata": {
    "scrolled": true
   },
   "outputs": [
    {
     "data": {
      "text/plain": [
       "Index(['month', 'state', 'permit', 'permit_recheck', 'handgun', 'long_gun',\n",
       "       'other', 'multiple', 'admin', 'prepawn_handgun', 'prepawn_long_gun',\n",
       "       'prepawn_other', 'redemption_handgun', 'redemption_long_gun',\n",
       "       'redemption_other', 'returned_handgun', 'returned_long_gun',\n",
       "       'returned_other', 'rentals_handgun', 'rentals_long_gun',\n",
       "       'private_sale_handgun', 'private_sale_long_gun', 'private_sale_other',\n",
       "       'return_to_seller_handgun', 'return_to_seller_long_gun',\n",
       "       'return_to_seller_other', 'totals'],\n",
       "      dtype='object')"
      ]
     },
     "execution_count": 4,
     "metadata": {},
     "output_type": "execute_result"
    }
   ],
   "source": [
    "df_gun.columns"
   ]
  },
  {
   "cell_type": "code",
   "execution_count": 5,
   "metadata": {
    "scrolled": true
   },
   "outputs": [
    {
     "data": {
      "text/html": [
       "<div>\n",
       "<style scoped>\n",
       "    .dataframe tbody tr th:only-of-type {\n",
       "        vertical-align: middle;\n",
       "    }\n",
       "\n",
       "    .dataframe tbody tr th {\n",
       "        vertical-align: top;\n",
       "    }\n",
       "\n",
       "    .dataframe thead th {\n",
       "        text-align: right;\n",
       "    }\n",
       "</style>\n",
       "<table border=\"1\" class=\"dataframe\">\n",
       "  <thead>\n",
       "    <tr style=\"text-align: right;\">\n",
       "      <th></th>\n",
       "      <th>Fact</th>\n",
       "      <th>Fact Note</th>\n",
       "      <th>Alabama</th>\n",
       "      <th>Alaska</th>\n",
       "      <th>Arizona</th>\n",
       "      <th>Arkansas</th>\n",
       "      <th>California</th>\n",
       "      <th>Colorado</th>\n",
       "      <th>Connecticut</th>\n",
       "      <th>Delaware</th>\n",
       "      <th>...</th>\n",
       "      <th>South Dakota</th>\n",
       "      <th>Tennessee</th>\n",
       "      <th>Texas</th>\n",
       "      <th>Utah</th>\n",
       "      <th>Vermont</th>\n",
       "      <th>Virginia</th>\n",
       "      <th>Washington</th>\n",
       "      <th>West Virginia</th>\n",
       "      <th>Wisconsin</th>\n",
       "      <th>Wyoming</th>\n",
       "    </tr>\n",
       "  </thead>\n",
       "  <tbody>\n",
       "    <tr>\n",
       "      <th>0</th>\n",
       "      <td>Population estimates, July 1, 2016,  (V2016)</td>\n",
       "      <td>NaN</td>\n",
       "      <td>4,863,300</td>\n",
       "      <td>741,894</td>\n",
       "      <td>6,931,071</td>\n",
       "      <td>2,988,248</td>\n",
       "      <td>39,250,017</td>\n",
       "      <td>5,540,545</td>\n",
       "      <td>3,576,452</td>\n",
       "      <td>952,065</td>\n",
       "      <td>...</td>\n",
       "      <td>865454</td>\n",
       "      <td>6651194</td>\n",
       "      <td>27,862,596</td>\n",
       "      <td>3,051,217</td>\n",
       "      <td>624,594</td>\n",
       "      <td>8,411,808</td>\n",
       "      <td>7,288,000</td>\n",
       "      <td>1,831,102</td>\n",
       "      <td>5,778,708</td>\n",
       "      <td>585,501</td>\n",
       "    </tr>\n",
       "    <tr>\n",
       "      <th>1</th>\n",
       "      <td>Population estimates base, April 1, 2010,  (V2...</td>\n",
       "      <td>NaN</td>\n",
       "      <td>4,780,131</td>\n",
       "      <td>710,249</td>\n",
       "      <td>6,392,301</td>\n",
       "      <td>2,916,025</td>\n",
       "      <td>37,254,522</td>\n",
       "      <td>5,029,324</td>\n",
       "      <td>3,574,114</td>\n",
       "      <td>897,936</td>\n",
       "      <td>...</td>\n",
       "      <td>814195</td>\n",
       "      <td>6346298</td>\n",
       "      <td>25,146,100</td>\n",
       "      <td>2,763,888</td>\n",
       "      <td>625,741</td>\n",
       "      <td>8,001,041</td>\n",
       "      <td>6,724,545</td>\n",
       "      <td>1,853,011</td>\n",
       "      <td>5,687,289</td>\n",
       "      <td>563,767</td>\n",
       "    </tr>\n",
       "    <tr>\n",
       "      <th>2</th>\n",
       "      <td>Population, percent change - April 1, 2010 (es...</td>\n",
       "      <td>NaN</td>\n",
       "      <td>1.70%</td>\n",
       "      <td>4.50%</td>\n",
       "      <td>8.40%</td>\n",
       "      <td>2.50%</td>\n",
       "      <td>5.40%</td>\n",
       "      <td>10.20%</td>\n",
       "      <td>0.10%</td>\n",
       "      <td>6.00%</td>\n",
       "      <td>...</td>\n",
       "      <td>0.063</td>\n",
       "      <td>0.048</td>\n",
       "      <td>10.80%</td>\n",
       "      <td>10.40%</td>\n",
       "      <td>-0.20%</td>\n",
       "      <td>5.10%</td>\n",
       "      <td>8.40%</td>\n",
       "      <td>-1.20%</td>\n",
       "      <td>1.60%</td>\n",
       "      <td>3.90%</td>\n",
       "    </tr>\n",
       "    <tr>\n",
       "      <th>3</th>\n",
       "      <td>Population, Census, April 1, 2010</td>\n",
       "      <td>NaN</td>\n",
       "      <td>4,779,736</td>\n",
       "      <td>710,231</td>\n",
       "      <td>6,392,017</td>\n",
       "      <td>2,915,918</td>\n",
       "      <td>37,253,956</td>\n",
       "      <td>5,029,196</td>\n",
       "      <td>3,574,097</td>\n",
       "      <td>897,934</td>\n",
       "      <td>...</td>\n",
       "      <td>814180</td>\n",
       "      <td>6346105</td>\n",
       "      <td>25,145,561</td>\n",
       "      <td>2,763,885</td>\n",
       "      <td>625,741</td>\n",
       "      <td>8,001,024</td>\n",
       "      <td>6,724,540</td>\n",
       "      <td>1,852,994</td>\n",
       "      <td>5,686,986</td>\n",
       "      <td>563,626</td>\n",
       "    </tr>\n",
       "    <tr>\n",
       "      <th>4</th>\n",
       "      <td>Persons under 5 years, percent, July 1, 2016, ...</td>\n",
       "      <td>NaN</td>\n",
       "      <td>6.00%</td>\n",
       "      <td>7.30%</td>\n",
       "      <td>6.30%</td>\n",
       "      <td>6.40%</td>\n",
       "      <td>6.30%</td>\n",
       "      <td>6.10%</td>\n",
       "      <td>5.20%</td>\n",
       "      <td>5.80%</td>\n",
       "      <td>...</td>\n",
       "      <td>0.071</td>\n",
       "      <td>0.061</td>\n",
       "      <td>7.20%</td>\n",
       "      <td>8.30%</td>\n",
       "      <td>4.90%</td>\n",
       "      <td>6.10%</td>\n",
       "      <td>6.20%</td>\n",
       "      <td>5.50%</td>\n",
       "      <td>5.80%</td>\n",
       "      <td>6.50%</td>\n",
       "    </tr>\n",
       "  </tbody>\n",
       "</table>\n",
       "<p>5 rows × 52 columns</p>\n",
       "</div>"
      ],
      "text/plain": [
       "                                                Fact Fact Note    Alabama  \\\n",
       "0       Population estimates, July 1, 2016,  (V2016)       NaN  4,863,300   \n",
       "1  Population estimates base, April 1, 2010,  (V2...       NaN  4,780,131   \n",
       "2  Population, percent change - April 1, 2010 (es...       NaN      1.70%   \n",
       "3                  Population, Census, April 1, 2010       NaN  4,779,736   \n",
       "4  Persons under 5 years, percent, July 1, 2016, ...       NaN      6.00%   \n",
       "\n",
       "    Alaska    Arizona   Arkansas  California   Colorado Connecticut Delaware  \\\n",
       "0  741,894  6,931,071  2,988,248  39,250,017  5,540,545   3,576,452  952,065   \n",
       "1  710,249  6,392,301  2,916,025  37,254,522  5,029,324   3,574,114  897,936   \n",
       "2    4.50%      8.40%      2.50%       5.40%     10.20%       0.10%    6.00%   \n",
       "3  710,231  6,392,017  2,915,918  37,253,956  5,029,196   3,574,097  897,934   \n",
       "4    7.30%      6.30%      6.40%       6.30%      6.10%       5.20%    5.80%   \n",
       "\n",
       "    ...    South Dakota Tennessee       Texas       Utah  Vermont   Virginia  \\\n",
       "0   ...          865454   6651194  27,862,596  3,051,217  624,594  8,411,808   \n",
       "1   ...          814195   6346298  25,146,100  2,763,888  625,741  8,001,041   \n",
       "2   ...           0.063     0.048      10.80%     10.40%   -0.20%      5.10%   \n",
       "3   ...          814180   6346105  25,145,561  2,763,885  625,741  8,001,024   \n",
       "4   ...           0.071     0.061       7.20%      8.30%    4.90%      6.10%   \n",
       "\n",
       "  Washington West Virginia  Wisconsin  Wyoming  \n",
       "0  7,288,000     1,831,102  5,778,708  585,501  \n",
       "1  6,724,545     1,853,011  5,687,289  563,767  \n",
       "2      8.40%        -1.20%      1.60%    3.90%  \n",
       "3  6,724,540     1,852,994  5,686,986  563,626  \n",
       "4      6.20%         5.50%      5.80%    6.50%  \n",
       "\n",
       "[5 rows x 52 columns]"
      ]
     },
     "execution_count": 5,
     "metadata": {},
     "output_type": "execute_result"
    }
   ],
   "source": [
    "df_cen.head()"
   ]
  },
  {
   "cell_type": "code",
   "execution_count": 6,
   "metadata": {
    "scrolled": true
   },
   "outputs": [
    {
     "data": {
      "text/plain": [
       "0          Population estimates, July 1, 2016,  (V2016)\n",
       "1     Population estimates base, April 1, 2010,  (V2...\n",
       "2     Population, percent change - April 1, 2010 (es...\n",
       "3                     Population, Census, April 1, 2010\n",
       "4     Persons under 5 years, percent, July 1, 2016, ...\n",
       "5         Persons under 5 years, percent, April 1, 2010\n",
       "6     Persons under 18 years, percent, July 1, 2016,...\n",
       "7        Persons under 18 years, percent, April 1, 2010\n",
       "8     Persons 65 years and over, percent,  July 1, 2...\n",
       "9     Persons 65 years and over, percent, April 1, 2010\n",
       "10     Female persons, percent,  July 1, 2016,  (V2016)\n",
       "11               Female persons, percent, April 1, 2010\n",
       "12         White alone, percent, July 1, 2016,  (V2016)\n",
       "13    Black or African American alone, percent, July...\n",
       "14    American Indian and Alaska Native alone, perce...\n",
       "15         Asian alone, percent, July 1, 2016,  (V2016)\n",
       "16    Native Hawaiian and Other Pacific Islander alo...\n",
       "17    Two or More Races, percent, July 1, 2016,  (V2...\n",
       "18    Hispanic or Latino, percent, July 1, 2016,  (V...\n",
       "19    White alone, not Hispanic or Latino, percent, ...\n",
       "20                                  Veterans, 2011-2015\n",
       "21             Foreign born persons, percent, 2011-2015\n",
       "22               Housing units,  July 1, 2016,  (V2016)\n",
       "23                         Housing units, April 1, 2010\n",
       "24          Owner-occupied housing unit rate, 2011-2015\n",
       "25    Median value of owner-occupied housing units, ...\n",
       "26    Median selected monthly owner costs -with a mo...\n",
       "27    Median selected monthly owner costs -without a...\n",
       "28                         Median gross rent, 2011-2015\n",
       "29                               Building permits, 2016\n",
       "                            ...                        \n",
       "55                                      All firms, 2012\n",
       "56                                Men-owned firms, 2012\n",
       "57                              Women-owned firms, 2012\n",
       "58                           Minority-owned firms, 2012\n",
       "59                        Nonminority-owned firms, 2012\n",
       "60                            Veteran-owned firms, 2012\n",
       "61                         Nonveteran-owned firms, 2012\n",
       "62                     Population per square mile, 2010\n",
       "63                      Land area in square miles, 2010\n",
       "64                                            FIPS Code\n",
       "65                                                  NaN\n",
       "66    NOTE: FIPS Code values are enclosed in quotes ...\n",
       "67                                                  NaN\n",
       "68                                          Value Notes\n",
       "69                                                    1\n",
       "70                                                  NaN\n",
       "71                                           Fact Notes\n",
       "72                                                  (a)\n",
       "73                                                  (b)\n",
       "74                                                  (c)\n",
       "75                                                  NaN\n",
       "76                                          Value Flags\n",
       "77                                                    -\n",
       "78                                                    D\n",
       "79                                                    F\n",
       "80                                                   FN\n",
       "81                                                  NaN\n",
       "82                                                    S\n",
       "83                                                    X\n",
       "84                                                    Z\n",
       "Name: Fact, Length: 85, dtype: object"
      ]
     },
     "execution_count": 6,
     "metadata": {},
     "output_type": "execute_result"
    }
   ],
   "source": [
    "df_cen['Fact']"
   ]
  },
  {
   "cell_type": "code",
   "execution_count": 7,
   "metadata": {},
   "outputs": [
    {
     "data": {
      "text/plain": [
       "(13970, 27)"
      ]
     },
     "execution_count": 7,
     "metadata": {},
     "output_type": "execute_result"
    }
   ],
   "source": [
    "df_gun.shape"
   ]
  },
  {
   "cell_type": "code",
   "execution_count": 8,
   "metadata": {},
   "outputs": [
    {
     "data": {
      "text/plain": [
       "(85, 52)"
      ]
     },
     "execution_count": 8,
     "metadata": {},
     "output_type": "execute_result"
    }
   ],
   "source": [
    "df_cen.shape"
   ]
  },
  {
   "cell_type": "code",
   "execution_count": 9,
   "metadata": {
    "scrolled": true
   },
   "outputs": [
    {
     "data": {
      "text/plain": [
       "month                         object\n",
       "state                         object\n",
       "permit                       float64\n",
       "permit_recheck               float64\n",
       "handgun                      float64\n",
       "long_gun                     float64\n",
       "other                        float64\n",
       "multiple                       int64\n",
       "admin                        float64\n",
       "prepawn_handgun              float64\n",
       "prepawn_long_gun             float64\n",
       "prepawn_other                float64\n",
       "redemption_handgun           float64\n",
       "redemption_long_gun          float64\n",
       "redemption_other             float64\n",
       "returned_handgun             float64\n",
       "returned_long_gun            float64\n",
       "returned_other               float64\n",
       "rentals_handgun              float64\n",
       "rentals_long_gun             float64\n",
       "private_sale_handgun         float64\n",
       "private_sale_long_gun        float64\n",
       "private_sale_other           float64\n",
       "return_to_seller_handgun     float64\n",
       "return_to_seller_long_gun    float64\n",
       "return_to_seller_other       float64\n",
       "totals                         int64\n",
       "dtype: object"
      ]
     },
     "execution_count": 9,
     "metadata": {},
     "output_type": "execute_result"
    }
   ],
   "source": [
    "df_gun.dtypes"
   ]
  },
  {
   "cell_type": "code",
   "execution_count": 10,
   "metadata": {
    "scrolled": true
   },
   "outputs": [
    {
     "data": {
      "text/plain": [
       "Fact              object\n",
       "Fact Note         object\n",
       "Alabama           object\n",
       "Alaska            object\n",
       "Arizona           object\n",
       "Arkansas          object\n",
       "California        object\n",
       "Colorado          object\n",
       "Connecticut       object\n",
       "Delaware          object\n",
       "Florida           object\n",
       "Georgia           object\n",
       "Hawaii            object\n",
       "Idaho             object\n",
       "Illinois          object\n",
       "Indiana           object\n",
       "Iowa              object\n",
       "Kansas            object\n",
       "Kentucky          object\n",
       "Louisiana         object\n",
       "Maine             object\n",
       "Maryland          object\n",
       "Massachusetts     object\n",
       "Michigan          object\n",
       "Minnesota         object\n",
       "Mississippi       object\n",
       "Missouri          object\n",
       "Montana           object\n",
       "Nebraska          object\n",
       "Nevada            object\n",
       "New Hampshire     object\n",
       "New Jersey        object\n",
       "New Mexico        object\n",
       "New York          object\n",
       "North Carolina    object\n",
       "North Dakota      object\n",
       "Ohio              object\n",
       "Oklahoma          object\n",
       "Oregon            object\n",
       "Pennsylvania      object\n",
       "Rhode Island      object\n",
       "South Carolina    object\n",
       "South Dakota      object\n",
       "Tennessee         object\n",
       "Texas             object\n",
       "Utah              object\n",
       "Vermont           object\n",
       "Virginia          object\n",
       "Washington        object\n",
       "West Virginia     object\n",
       "Wisconsin         object\n",
       "Wyoming           object\n",
       "dtype: object"
      ]
     },
     "execution_count": 10,
     "metadata": {},
     "output_type": "execute_result"
    }
   ],
   "source": [
    "df_cen.dtypes"
   ]
  },
  {
   "cell_type": "markdown",
   "metadata": {},
   "source": [
    "### Data Cleaning \n",
    "I dropped some columns which are not be used in the following analysis; deleted duplicates; removed null value rows and changed the data types."
   ]
  },
  {
   "cell_type": "code",
   "execution_count": 3,
   "metadata": {},
   "outputs": [],
   "source": [
    "#columns after 'long_gun' have too many null values, so I sliced the first 6 columns\n",
    "df_gun = df_gun.iloc[:,0:6]"
   ]
  },
  {
   "cell_type": "code",
   "execution_count": 4,
   "metadata": {},
   "outputs": [
    {
     "data": {
      "text/plain": [
       "0"
      ]
     },
     "execution_count": 4,
     "metadata": {},
     "output_type": "execute_result"
    }
   ],
   "source": [
    "# check duplicates in df_gun\n",
    "sum(df_gun.duplicated())"
   ]
  },
  {
   "cell_type": "code",
   "execution_count": 5,
   "metadata": {},
   "outputs": [
    {
     "data": {
      "text/plain": [
       "month                 0\n",
       "state                 0\n",
       "permit               24\n",
       "permit_recheck    11385\n",
       "handgun              20\n",
       "long_gun             19\n",
       "dtype: int64"
      ]
     },
     "execution_count": 5,
     "metadata": {},
     "output_type": "execute_result"
    }
   ],
   "source": [
    "#check null values in df_gun\n",
    "df_gun.isna().sum()"
   ]
  },
  {
   "cell_type": "code",
   "execution_count": 6,
   "metadata": {},
   "outputs": [],
   "source": [
    "# Delete the permit_recheck column since it includes too many null values\n",
    "df_gun.drop(['permit_recheck'],axis = 1, inplace = True)"
   ]
  },
  {
   "cell_type": "code",
   "execution_count": 7,
   "metadata": {},
   "outputs": [
    {
     "data": {
      "text/plain": [
       "month        0\n",
       "state        0\n",
       "permit      24\n",
       "handgun     20\n",
       "long_gun    19\n",
       "dtype: int64"
      ]
     },
     "execution_count": 7,
     "metadata": {},
     "output_type": "execute_result"
    }
   ],
   "source": [
    "#check if still has null values left in df_gun\n",
    "df_gun.isna().sum()"
   ]
  },
  {
   "cell_type": "code",
   "execution_count": 8,
   "metadata": {
    "scrolled": true
   },
   "outputs": [],
   "source": [
    "#drop all the rows contain null vulaues in df_gun\n",
    "df_gun.dropna(inplace = True)"
   ]
  },
  {
   "cell_type": "code",
   "execution_count": 9,
   "metadata": {},
   "outputs": [
    {
     "data": {
      "text/plain": [
       "month       0\n",
       "state       0\n",
       "permit      0\n",
       "handgun     0\n",
       "long_gun    0\n",
       "dtype: int64"
      ]
     },
     "execution_count": 9,
     "metadata": {},
     "output_type": "execute_result"
    }
   ],
   "source": [
    "#check again if still has null values left in df_gun\n",
    "df_gun.isna().sum()"
   ]
  },
  {
   "cell_type": "code",
   "execution_count": 10,
   "metadata": {},
   "outputs": [],
   "source": [
    "#change data type from string to datetime for month column in df_gun\n",
    "df_gun['month'] = pd.to_datetime(df_gun['month'])"
   ]
  },
  {
   "cell_type": "code",
   "execution_count": 11,
   "metadata": {},
   "outputs": [
    {
     "data": {
      "text/plain": [
       "(13946, 5)"
      ]
     },
     "execution_count": 11,
     "metadata": {},
     "output_type": "execute_result"
    }
   ],
   "source": [
    "#view the final shape for df_gun\n",
    "df_gun.shape"
   ]
  },
  {
   "cell_type": "code",
   "execution_count": 12,
   "metadata": {},
   "outputs": [
    {
     "data": {
      "text/plain": [
       "3"
      ]
     },
     "execution_count": 12,
     "metadata": {},
     "output_type": "execute_result"
    }
   ],
   "source": [
    "# check duplicates in df_cen\n",
    "sum(df_cen.duplicated())"
   ]
  },
  {
   "cell_type": "code",
   "execution_count": 13,
   "metadata": {},
   "outputs": [],
   "source": [
    "# delete duplicates in df_cen\n",
    "df_cen.drop_duplicates(inplace = True)"
   ]
  },
  {
   "cell_type": "code",
   "execution_count": 14,
   "metadata": {},
   "outputs": [],
   "source": [
    "#drop the Fact Note column\n",
    "df_cen.drop(['Fact Note'],axis = 1, inplace = True)"
   ]
  },
  {
   "cell_type": "markdown",
   "metadata": {},
   "source": [
    "<a id='eda'></a> \n",
    "## Exploratory Data Analysis\n",
    "What I want to explore in the following analysis:\n",
    "\n",
    "1, What's the trend for permit checks over years?\n",
    "\n",
    "2, What's the distribution of permit checks from 1998 till now?\n",
    "\n",
    "3, In which months people were checked for peimit more than other months in a year?\n",
    "\n",
    "4, Does permit checkes have any correlaton with capita income?"
   ]
  },
  {
   "cell_type": "markdown",
   "metadata": {},
   "source": [
    "### Question 1. What's the trend for permit checks over years?"
   ]
  },
  {
   "cell_type": "markdown",
   "metadata": {},
   "source": [
    "Draw a bar chart to show changes year by year"
   ]
  },
  {
   "cell_type": "code",
   "execution_count": 15,
   "metadata": {
    "scrolled": true
   },
   "outputs": [
    {
     "data": {
      "text/plain": [
       "month\n",
       "1998       78169.0\n",
       "1999     1037700.0\n",
       "2000     1227814.0\n",
       "2001     1408338.0\n",
       "2002     1363211.0\n",
       "2003     1403496.0\n",
       "2004     1345672.0\n",
       "2005     1350193.0\n",
       "2006     2037453.0\n",
       "2007     3078802.0\n",
       "2008     3699021.0\n",
       "2009     4450822.0\n",
       "2010     4884307.0\n",
       "2011     5545457.0\n",
       "2012     5683547.0\n",
       "2013     6169832.0\n",
       "2014     7769858.0\n",
       "2015     8782048.0\n",
       "2016    11134651.0\n",
       "2017     9941684.0\n",
       "2018    10229162.0\n",
       "2019     6482780.0\n",
       "Name: permit, dtype: float64"
      ]
     },
     "execution_count": 15,
     "metadata": {},
     "output_type": "execute_result"
    }
   ],
   "source": [
    "#I sumed up permit checkes by years\n",
    "year_sum = df_gun.groupby(pd.DatetimeIndex(df_gun['month']).year)['permit'].sum()\n",
    "year_sum"
   ]
  },
  {
   "cell_type": "code",
   "execution_count": 24,
   "metadata": {},
   "outputs": [],
   "source": [
    "time = [\"1998\",\"1999\",\"2000\",\"2001\",\"2002\",\"2003\",\"2004\",\"2005\",\"2006\",\"2007\",\"2008\",\"2009\",\"2010\",\"2011\",\"2012\",\"2013\",\"2014\",\"2015\",\"2016\",\"2017\",\"2018\",\"2019\"]"
   ]
  },
  {
   "cell_type": "code",
   "execution_count": 25,
   "metadata": {},
   "outputs": [
    {
     "data": {
      "text/plain": [
       "[0, 1, 2, 3, 4, 5, 6, 7, 8, 9, 10, 11, 12, 13, 14, 15, 16, 17, 18, 19, 20, 21]"
      ]
     },
     "execution_count": 25,
     "metadata": {},
     "output_type": "execute_result"
    }
   ],
   "source": [
    "loc = list(range(22))\n",
    "loc"
   ]
  },
  {
   "cell_type": "code",
   "execution_count": 26,
   "metadata": {},
   "outputs": [
    {
     "data": {
      "image/png": "[encoded data removed]",
      "text/plain": [
       "<matplotlib.figure.Figure at 0x7fc2290de0b8>"
      ]
     },
     "metadata": {
      "needs_background": "light"
     },
     "output_type": "display_data"
    }
   ],
   "source": [
    "plt.figure(figsize=(15,4.8))\n",
    "plt.bar(loc,year_sum)\n",
    "plt.xticks(loc, time, rotation='vertical')\n",
    "plt.title('Permits Yearly Distribution', fontsize = 25, color = 'DarkBlue', fontname = 'DejaVu Sans')\n",
    "plt.ylabel('Quantity', fontsize = 20,fontname = 'DejaVu Sans')\n",
    "plt.xlabel('Year',fontsize = 20,fontname = 'DejaVu Sans')\n",
    "plt.show()"
   ]
  },
  {
   "cell_type": "markdown",
   "metadata": {},
   "source": [
    "From the plot above, we can see since 2006, permit checks increased dramatically year by year till 2016, after that, \n",
    "the number begun to decrease.\n",
    "\n",
    "Limitation: The number in this frame may not include all permit checks in every year in every state, so we need to aware of the accuracy. And also this dosen't present all the gun trade happend in each year, since there are many trades didn't do permit checks like buy guns directly from gun owners."
   ]
  },
  {
   "cell_type": "markdown",
   "metadata": {},
   "source": [
    "### Question 2. What's the distribution of permit checks from 1998 till now?"
   ]
  },
  {
   "cell_type": "code",
   "execution_count": 97,
   "metadata": {},
   "outputs": [
    {
     "data": {
      "image/png": "[encoded data removed]",
      "text/plain": [
       "<matplotlib.figure.Figure at 0x7ff5fb2b3208>"
      ]
     },
     "metadata": {},
     "output_type": "display_data"
    }
   ],
   "source": [
    "plt.figure(figsize=(15,4.8))\n",
    "plt.hist(year_sum)\n",
    "plt.title('Permits Distribution', fontsize = 25, color = 'DarkBlue', fontname = 'DejaVu Sans')\n",
    "plt.ylabel('Number', fontsize = 20,fontname = 'DejaVu Sans')\n",
    "plt.xlabel('Quantity',fontsize = 20,fontname = 'DejaVu Sans')\n",
    "plt.show()"
   ]
  },
  {
   "cell_type": "markdown",
   "metadata": {},
   "source": [
    "From the plot above, we can see the permits checks of most years are in about 0.2*le7, second most in from 0.4*le7 to 0.6*le7.\n",
    "\n",
    "Limitation: The number in this frame may not include all permit checks in every year in every state, so we need to aware of the accuracy. And also this dosen't present all the gun trade happend in each year, since there are many trades didn't do permit checks like buy guns directly from gun owners."
   ]
  },
  {
   "cell_type": "markdown",
   "metadata": {},
   "source": [
    "### Question 3. In which months people were checked for peimit more than other months in a year?"
   ]
  },
  {
   "cell_type": "markdown",
   "metadata": {},
   "source": [
    "Draw a plot to show in which months people got more permits."
   ]
  },
  {
   "cell_type": "code",
   "execution_count": 27,
   "metadata": {
    "scrolled": true
   },
   "outputs": [],
   "source": [
    "# Sumed up the permit checks by month\n",
    "month_sum = df_gun.groupby(pd.DatetimeIndex(df_gun['month']).month)['permit'].sum()"
   ]
  },
  {
   "cell_type": "code",
   "execution_count": 28,
   "metadata": {},
   "outputs": [],
   "source": [
    "time_month = month_sum.index"
   ]
  },
  {
   "cell_type": "code",
   "execution_count": 29,
   "metadata": {},
   "outputs": [
    {
     "data": {
      "image/png": "[encoded data removed]",
      "text/plain": [
       "<matplotlib.figure.Figure at 0x7fc2290de8d0>"
      ]
     },
     "metadata": {
      "needs_background": "light"
     },
     "output_type": "display_data"
    }
   ],
   "source": [
    "plt.rcParams[\"figure.figsize\"] = [15, 5]\n",
    "plt.plot(time_month, month_sum)\n",
    "plt.title('Permits Monthly Distribution', fontsize = 20, color = 'DarkBlue', fontname = 'DejaVu Sans')\n",
    "plt.ylabel('Quantity', fontsize = 20,fontname = 'DejaVu Sans')\n",
    "plt.xlabel('Month',fontsize = 20,fontname = 'DejaVu Sans')\n",
    "plt.show()"
   ]
  },
  {
   "cell_type": "markdown",
   "metadata": {},
   "source": [
    "From the plot above, we can see that permit checks reached the top in March, fell to the bottom in September. Generally from January to April have more permit checks, from June to October have less checks.\n",
    "\n",
    "Limitation: The number in this frame may not include all permit checks in every month, so we need to aware of the accuracy. And also this dosen't present all the gun trade happend in each month, since there are many trades didn't do permit checks like buy guns directly from gun owners."
   ]
  },
  {
   "cell_type": "markdown",
   "metadata": {},
   "source": [
    "### Question 4.  Does permit checkes have any correlaton with capita income?"
   ]
  },
  {
   "cell_type": "code",
   "execution_count": 58,
   "metadata": {
    "scrolled": true
   },
   "outputs": [],
   "source": [
    "#Sliced row 48(capita income in 2015 in USA)for analysis \n",
    "df_cen_income = df_cen.iloc[48]"
   ]
  },
  {
   "cell_type": "markdown",
   "metadata": {},
   "source": [
    "Check the df_cen_income structure before analysis"
   ]
  },
  {
   "cell_type": "code",
   "execution_count": 59,
   "metadata": {},
   "outputs": [
    {
     "data": {
      "text/plain": [
       "Index(['Fact', 'Alabama', 'Alaska', 'Arizona', 'Arkansas', 'California',\n",
       "       'Colorado', 'Connecticut', 'Delaware', 'Florida', 'Georgia', 'Hawaii',\n",
       "       'Idaho', 'Illinois', 'Indiana', 'Iowa', 'Kansas', 'Kentucky',\n",
       "       'Louisiana', 'Maine', 'Maryland', 'Massachusetts', 'Michigan',\n",
       "       'Minnesota', 'Mississippi', 'Missouri', 'Montana', 'Nebraska', 'Nevada',\n",
       "       'New Hampshire', 'New Jersey', 'New Mexico', 'New York',\n",
       "       'North Carolina', 'North Dakota', 'Ohio', 'Oklahoma', 'Oregon',\n",
       "       'Pennsylvania', 'Rhode Island', 'South Carolina', 'South Dakota',\n",
       "       'Tennessee', 'Texas', 'Utah', 'Vermont', 'Virginia', 'Washington',\n",
       "       'West Virginia', 'Wisconsin', 'Wyoming'],\n",
       "      dtype='object')"
      ]
     },
     "execution_count": 59,
     "metadata": {},
     "output_type": "execute_result"
    }
   ],
   "source": [
    "df_cen_income.index"
   ]
  },
  {
   "cell_type": "code",
   "execution_count": 60,
   "metadata": {
    "scrolled": true
   },
   "outputs": [
    {
     "name": "stdout",
     "output_type": "stream",
     "text": [
      "Fact              Per capita income in past 12 months (in 2015 d...\n",
      "Alabama                                                    $24,091 \n",
      "Alaska                                                     $33,413 \n",
      "Arizona                                                    $25,848 \n",
      "Arkansas                                                   $22,798 \n",
      "California                                                 $30,318 \n",
      "Colorado                                                   $32,217 \n",
      "Connecticut                                                $38,803 \n",
      "Delaware                                                   $30,554 \n",
      "Florida                                                    $26,829 \n",
      "Georgia                                                    $25,737 \n",
      "Hawaii                                                     $29,822 \n",
      "Idaho                                                      $23,399 \n",
      "Illinois                                                   $30,494 \n",
      "Indiana                                                    $25,346 \n",
      "Iowa                                                       $27,950 \n",
      "Kansas                                                     $27,706 \n",
      "Kentucky                                                   $24,063 \n",
      "Louisiana                                                  $24,981 \n",
      "Maine                                                      $27,655 \n",
      "Maryland                                                   $36,897 \n",
      "Massachusetts                                              $36,895 \n",
      "Michigan                                                   $26,607 \n",
      "Minnesota                                                  $32,157 \n",
      "Mississippi                                                $21,057 \n",
      "Missouri                                                   $26,259 \n",
      "Montana                                                    $26,381 \n",
      "Nebraska                                                   $27,882 \n",
      "Nevada                                                     $26,541 \n",
      "New Hampshire                                              $34,362 \n",
      "New Jersey                                                 $36,582 \n",
      "New Mexico                                                    24012\n",
      "New York                                                      33236\n",
      "North Carolina                                                25920\n",
      "North Dakota                                                  32035\n",
      "Ohio                                                          26953\n",
      "Oklahoma                                                      25032\n",
      "Oregon                                                        27684\n",
      "Pennsylvania                                                  29291\n",
      "Rhode Island                                                  31118\n",
      "South Carolina                                                24604\n",
      "South Dakota                                                  26747\n",
      "Tennessee                                                     25227\n",
      "Texas                                                      $26,999 \n",
      "Utah                                                       $24,686 \n",
      "Vermont                                                    $29,894 \n",
      "Virginia                                                   $34,152 \n",
      "Washington                                                 $31,762 \n",
      "West Virginia                                              $23,450 \n",
      "Wisconsin                                                  $28,340 \n",
      "Wyoming                                                    $29,803 \n",
      "Name: 48, dtype: object\n"
     ]
    }
   ],
   "source": [
    "print(df_cen_income)"
   ]
  },
  {
   "cell_type": "code",
   "execution_count": 61,
   "metadata": {},
   "outputs": [],
   "source": [
    "#Delete the Fact culumn which will not be used in analysis\n",
    "df_cen_income.drop(index = 'Fact',inplace = True)"
   ]
  },
  {
   "cell_type": "markdown",
   "metadata": {},
   "source": [
    "Remove the ',' and '$' in income numbers"
   ]
  },
  {
   "cell_type": "code",
   "execution_count": 19,
   "metadata": {
    "scrolled": true
   },
   "outputs": [
    {
     "data": {
      "text/plain": [
       "50"
      ]
     },
     "execution_count": 19,
     "metadata": {},
     "output_type": "execute_result"
    }
   ],
   "source": [
    "df_cen_income.size"
   ]
  },
  {
   "cell_type": "code",
   "execution_count": 62,
   "metadata": {
    "scrolled": true
   },
   "outputs": [],
   "source": [
    "df_cen_income = df_cen_income.to_frame()"
   ]
  },
  {
   "cell_type": "code",
   "execution_count": 63,
   "metadata": {},
   "outputs": [],
   "source": [
    "index = df_cen_income.index"
   ]
  },
  {
   "cell_type": "code",
   "execution_count": 64,
   "metadata": {},
   "outputs": [],
   "source": [
    "#create a function to clean the income\n",
    "def clean_income(income):\n",
    "    for i in index:\n",
    "        income[i] = income[i].replace(',', '')\n",
    "        income[i] = income[i].replace('$', '')"
   ]
  },
  {
   "cell_type": "code",
   "execution_count": 65,
   "metadata": {
    "scrolled": true
   },
   "outputs": [
    {
     "data": {
      "text/html": [
       "<div>\n",
       "<style scoped>\n",
       "    .dataframe tbody tr th:only-of-type {\n",
       "        vertical-align: middle;\n",
       "    }\n",
       "\n",
       "    .dataframe tbody tr th {\n",
       "        vertical-align: top;\n",
       "    }\n",
       "\n",
       "    .dataframe thead th {\n",
       "        text-align: right;\n",
       "    }\n",
       "</style>\n",
       "<table border=\"1\" class=\"dataframe\">\n",
       "  <thead>\n",
       "    <tr style=\"text-align: right;\">\n",
       "      <th></th>\n",
       "      <th>48</th>\n",
       "    </tr>\n",
       "  </thead>\n",
       "  <tbody>\n",
       "    <tr>\n",
       "      <th>Alabama</th>\n",
       "      <td>24091</td>\n",
       "    </tr>\n",
       "    <tr>\n",
       "      <th>Alaska</th>\n",
       "      <td>33413</td>\n",
       "    </tr>\n",
       "    <tr>\n",
       "      <th>Arizona</th>\n",
       "      <td>25848</td>\n",
       "    </tr>\n",
       "    <tr>\n",
       "      <th>Arkansas</th>\n",
       "      <td>22798</td>\n",
       "    </tr>\n",
       "    <tr>\n",
       "      <th>California</th>\n",
       "      <td>30318</td>\n",
       "    </tr>\n",
       "    <tr>\n",
       "      <th>Colorado</th>\n",
       "      <td>32217</td>\n",
       "    </tr>\n",
       "    <tr>\n",
       "      <th>Connecticut</th>\n",
       "      <td>38803</td>\n",
       "    </tr>\n",
       "    <tr>\n",
       "      <th>Delaware</th>\n",
       "      <td>30554</td>\n",
       "    </tr>\n",
       "    <tr>\n",
       "      <th>Florida</th>\n",
       "      <td>26829</td>\n",
       "    </tr>\n",
       "    <tr>\n",
       "      <th>Georgia</th>\n",
       "      <td>25737</td>\n",
       "    </tr>\n",
       "    <tr>\n",
       "      <th>Hawaii</th>\n",
       "      <td>29822</td>\n",
       "    </tr>\n",
       "    <tr>\n",
       "      <th>Idaho</th>\n",
       "      <td>23399</td>\n",
       "    </tr>\n",
       "    <tr>\n",
       "      <th>Illinois</th>\n",
       "      <td>30494</td>\n",
       "    </tr>\n",
       "    <tr>\n",
       "      <th>Indiana</th>\n",
       "      <td>25346</td>\n",
       "    </tr>\n",
       "    <tr>\n",
       "      <th>Iowa</th>\n",
       "      <td>27950</td>\n",
       "    </tr>\n",
       "    <tr>\n",
       "      <th>Kansas</th>\n",
       "      <td>27706</td>\n",
       "    </tr>\n",
       "    <tr>\n",
       "      <th>Kentucky</th>\n",
       "      <td>24063</td>\n",
       "    </tr>\n",
       "    <tr>\n",
       "      <th>Louisiana</th>\n",
       "      <td>24981</td>\n",
       "    </tr>\n",
       "    <tr>\n",
       "      <th>Maine</th>\n",
       "      <td>27655</td>\n",
       "    </tr>\n",
       "    <tr>\n",
       "      <th>Maryland</th>\n",
       "      <td>36897</td>\n",
       "    </tr>\n",
       "    <tr>\n",
       "      <th>Massachusetts</th>\n",
       "      <td>36895</td>\n",
       "    </tr>\n",
       "    <tr>\n",
       "      <th>Michigan</th>\n",
       "      <td>26607</td>\n",
       "    </tr>\n",
       "    <tr>\n",
       "      <th>Minnesota</th>\n",
       "      <td>32157</td>\n",
       "    </tr>\n",
       "    <tr>\n",
       "      <th>Mississippi</th>\n",
       "      <td>21057</td>\n",
       "    </tr>\n",
       "    <tr>\n",
       "      <th>Missouri</th>\n",
       "      <td>26259</td>\n",
       "    </tr>\n",
       "    <tr>\n",
       "      <th>Montana</th>\n",
       "      <td>26381</td>\n",
       "    </tr>\n",
       "    <tr>\n",
       "      <th>Nebraska</th>\n",
       "      <td>27882</td>\n",
       "    </tr>\n",
       "    <tr>\n",
       "      <th>Nevada</th>\n",
       "      <td>26541</td>\n",
       "    </tr>\n",
       "    <tr>\n",
       "      <th>New Hampshire</th>\n",
       "      <td>34362</td>\n",
       "    </tr>\n",
       "    <tr>\n",
       "      <th>New Jersey</th>\n",
       "      <td>36582</td>\n",
       "    </tr>\n",
       "    <tr>\n",
       "      <th>New Mexico</th>\n",
       "      <td>24012</td>\n",
       "    </tr>\n",
       "    <tr>\n",
       "      <th>New York</th>\n",
       "      <td>33236</td>\n",
       "    </tr>\n",
       "    <tr>\n",
       "      <th>North Carolina</th>\n",
       "      <td>25920</td>\n",
       "    </tr>\n",
       "    <tr>\n",
       "      <th>North Dakota</th>\n",
       "      <td>32035</td>\n",
       "    </tr>\n",
       "    <tr>\n",
       "      <th>Ohio</th>\n",
       "      <td>26953</td>\n",
       "    </tr>\n",
       "    <tr>\n",
       "      <th>Oklahoma</th>\n",
       "      <td>25032</td>\n",
       "    </tr>\n",
       "    <tr>\n",
       "      <th>Oregon</th>\n",
       "      <td>27684</td>\n",
       "    </tr>\n",
       "    <tr>\n",
       "      <th>Pennsylvania</th>\n",
       "      <td>29291</td>\n",
       "    </tr>\n",
       "    <tr>\n",
       "      <th>Rhode Island</th>\n",
       "      <td>31118</td>\n",
       "    </tr>\n",
       "    <tr>\n",
       "      <th>South Carolina</th>\n",
       "      <td>24604</td>\n",
       "    </tr>\n",
       "    <tr>\n",
       "      <th>South Dakota</th>\n",
       "      <td>26747</td>\n",
       "    </tr>\n",
       "    <tr>\n",
       "      <th>Tennessee</th>\n",
       "      <td>25227</td>\n",
       "    </tr>\n",
       "    <tr>\n",
       "      <th>Texas</th>\n",
       "      <td>26999</td>\n",
       "    </tr>\n",
       "    <tr>\n",
       "      <th>Utah</th>\n",
       "      <td>24686</td>\n",
       "    </tr>\n",
       "    <tr>\n",
       "      <th>Vermont</th>\n",
       "      <td>29894</td>\n",
       "    </tr>\n",
       "    <tr>\n",
       "      <th>Virginia</th>\n",
       "      <td>34152</td>\n",
       "    </tr>\n",
       "    <tr>\n",
       "      <th>Washington</th>\n",
       "      <td>31762</td>\n",
       "    </tr>\n",
       "    <tr>\n",
       "      <th>West Virginia</th>\n",
       "      <td>23450</td>\n",
       "    </tr>\n",
       "    <tr>\n",
       "      <th>Wisconsin</th>\n",
       "      <td>28340</td>\n",
       "    </tr>\n",
       "    <tr>\n",
       "      <th>Wyoming</th>\n",
       "      <td>29803</td>\n",
       "    </tr>\n",
       "  </tbody>\n",
       "</table>\n",
       "</div>"
      ],
      "text/plain": [
       "                    48\n",
       "Alabama         24091 \n",
       "Alaska          33413 \n",
       "Arizona         25848 \n",
       "Arkansas        22798 \n",
       "California      30318 \n",
       "Colorado        32217 \n",
       "Connecticut     38803 \n",
       "Delaware        30554 \n",
       "Florida         26829 \n",
       "Georgia         25737 \n",
       "Hawaii          29822 \n",
       "Idaho           23399 \n",
       "Illinois        30494 \n",
       "Indiana         25346 \n",
       "Iowa            27950 \n",
       "Kansas          27706 \n",
       "Kentucky        24063 \n",
       "Louisiana       24981 \n",
       "Maine           27655 \n",
       "Maryland        36897 \n",
       "Massachusetts   36895 \n",
       "Michigan        26607 \n",
       "Minnesota       32157 \n",
       "Mississippi     21057 \n",
       "Missouri        26259 \n",
       "Montana         26381 \n",
       "Nebraska        27882 \n",
       "Nevada          26541 \n",
       "New Hampshire   34362 \n",
       "New Jersey      36582 \n",
       "New Mexico       24012\n",
       "New York         33236\n",
       "North Carolina   25920\n",
       "North Dakota     32035\n",
       "Ohio             26953\n",
       "Oklahoma         25032\n",
       "Oregon           27684\n",
       "Pennsylvania     29291\n",
       "Rhode Island     31118\n",
       "South Carolina   24604\n",
       "South Dakota     26747\n",
       "Tennessee        25227\n",
       "Texas           26999 \n",
       "Utah            24686 \n",
       "Vermont         29894 \n",
       "Virginia        34152 \n",
       "Washington      31762 \n",
       "West Virginia   23450 \n",
       "Wisconsin       28340 \n",
       "Wyoming         29803 "
      ]
     },
     "execution_count": 65,
     "metadata": {},
     "output_type": "execute_result"
    }
   ],
   "source": [
    "#apply the function to df_cen_income\n",
    "df_cen_income.apply(clean_income)\n",
    "df_cen_income"
   ]
  },
  {
   "cell_type": "code",
   "execution_count": 72,
   "metadata": {},
   "outputs": [],
   "source": [
    "df_cen_income = df_cen_income.astype(int)"
   ]
  },
  {
   "cell_type": "code",
   "execution_count": 73,
   "metadata": {},
   "outputs": [
    {
     "data": {
      "text/plain": [
       "48    int64\n",
       "dtype: object"
      ]
     },
     "execution_count": 73,
     "metadata": {},
     "output_type": "execute_result"
    }
   ],
   "source": [
    "df_cen_income.dtypes"
   ]
  },
  {
   "cell_type": "markdown",
   "metadata": {},
   "source": [
    "Since the df_cen_income data is for 2015, I extracted all the data for 2015 from df_gun"
   ]
  },
  {
   "cell_type": "code",
   "execution_count": 74,
   "metadata": {
    "scrolled": true
   },
   "outputs": [
    {
     "data": {
      "text/html": [
       "<div>\n",
       "<style scoped>\n",
       "    .dataframe tbody tr th:only-of-type {\n",
       "        vertical-align: middle;\n",
       "    }\n",
       "\n",
       "    .dataframe tbody tr th {\n",
       "        vertical-align: top;\n",
       "    }\n",
       "\n",
       "    .dataframe thead th {\n",
       "        text-align: right;\n",
       "    }\n",
       "</style>\n",
       "<table border=\"1\" class=\"dataframe\">\n",
       "  <thead>\n",
       "    <tr style=\"text-align: right;\">\n",
       "      <th></th>\n",
       "      <th>month</th>\n",
       "      <th>state</th>\n",
       "      <th>permit</th>\n",
       "      <th>handgun</th>\n",
       "      <th>long_gun</th>\n",
       "    </tr>\n",
       "  </thead>\n",
       "  <tbody>\n",
       "    <tr>\n",
       "      <th>2640</th>\n",
       "      <td>2015-12-01</td>\n",
       "      <td>Alabama</td>\n",
       "      <td>31359.0</td>\n",
       "      <td>47605.0</td>\n",
       "      <td>33710.0</td>\n",
       "    </tr>\n",
       "    <tr>\n",
       "      <th>2641</th>\n",
       "      <td>2015-12-01</td>\n",
       "      <td>Alaska</td>\n",
       "      <td>245.0</td>\n",
       "      <td>5265.0</td>\n",
       "      <td>4638.0</td>\n",
       "    </tr>\n",
       "    <tr>\n",
       "      <th>2642</th>\n",
       "      <td>2015-12-01</td>\n",
       "      <td>Arizona</td>\n",
       "      <td>2940.0</td>\n",
       "      <td>25562.0</td>\n",
       "      <td>14725.0</td>\n",
       "    </tr>\n",
       "    <tr>\n",
       "      <th>2643</th>\n",
       "      <td>2015-12-01</td>\n",
       "      <td>Arkansas</td>\n",
       "      <td>4076.0</td>\n",
       "      <td>13780.0</td>\n",
       "      <td>15241.0</td>\n",
       "    </tr>\n",
       "    <tr>\n",
       "      <th>2644</th>\n",
       "      <td>2015-12-01</td>\n",
       "      <td>California</td>\n",
       "      <td>119166.0</td>\n",
       "      <td>74399.0</td>\n",
       "      <td>48762.0</td>\n",
       "    </tr>\n",
       "    <tr>\n",
       "      <th>2645</th>\n",
       "      <td>2015-12-01</td>\n",
       "      <td>Colorado</td>\n",
       "      <td>3265.0</td>\n",
       "      <td>34653.0</td>\n",
       "      <td>22880.0</td>\n",
       "    </tr>\n",
       "    <tr>\n",
       "      <th>2646</th>\n",
       "      <td>2015-12-01</td>\n",
       "      <td>Connecticut</td>\n",
       "      <td>12190.0</td>\n",
       "      <td>17828.0</td>\n",
       "      <td>6337.0</td>\n",
       "    </tr>\n",
       "    <tr>\n",
       "      <th>2647</th>\n",
       "      <td>2015-12-01</td>\n",
       "      <td>Delaware</td>\n",
       "      <td>297.0</td>\n",
       "      <td>3615.0</td>\n",
       "      <td>3274.0</td>\n",
       "    </tr>\n",
       "    <tr>\n",
       "      <th>2648</th>\n",
       "      <td>2015-12-01</td>\n",
       "      <td>District of Columbia</td>\n",
       "      <td>16.0</td>\n",
       "      <td>76.0</td>\n",
       "      <td>3.0</td>\n",
       "    </tr>\n",
       "    <tr>\n",
       "      <th>2649</th>\n",
       "      <td>2015-12-01</td>\n",
       "      <td>Florida</td>\n",
       "      <td>25044.0</td>\n",
       "      <td>86940.0</td>\n",
       "      <td>45769.0</td>\n",
       "    </tr>\n",
       "    <tr>\n",
       "      <th>2650</th>\n",
       "      <td>2015-12-01</td>\n",
       "      <td>Georgia</td>\n",
       "      <td>30391.0</td>\n",
       "      <td>34974.0</td>\n",
       "      <td>25174.0</td>\n",
       "    </tr>\n",
       "    <tr>\n",
       "      <th>2651</th>\n",
       "      <td>2015-12-01</td>\n",
       "      <td>Guam</td>\n",
       "      <td>0.0</td>\n",
       "      <td>145.0</td>\n",
       "      <td>60.0</td>\n",
       "    </tr>\n",
       "    <tr>\n",
       "      <th>2652</th>\n",
       "      <td>2015-12-01</td>\n",
       "      <td>Hawaii</td>\n",
       "      <td>1642.0</td>\n",
       "      <td>0.0</td>\n",
       "      <td>0.0</td>\n",
       "    </tr>\n",
       "    <tr>\n",
       "      <th>2653</th>\n",
       "      <td>2015-12-01</td>\n",
       "      <td>Idaho</td>\n",
       "      <td>2338.0</td>\n",
       "      <td>7023.0</td>\n",
       "      <td>7813.0</td>\n",
       "    </tr>\n",
       "    <tr>\n",
       "      <th>2654</th>\n",
       "      <td>2015-12-01</td>\n",
       "      <td>Illinois</td>\n",
       "      <td>122900.0</td>\n",
       "      <td>37193.0</td>\n",
       "      <td>20864.0</td>\n",
       "    </tr>\n",
       "    <tr>\n",
       "      <th>2655</th>\n",
       "      <td>2015-12-01</td>\n",
       "      <td>Indiana</td>\n",
       "      <td>139460.0</td>\n",
       "      <td>44150.0</td>\n",
       "      <td>26105.0</td>\n",
       "    </tr>\n",
       "    <tr>\n",
       "      <th>2656</th>\n",
       "      <td>2015-12-01</td>\n",
       "      <td>Iowa</td>\n",
       "      <td>19621.0</td>\n",
       "      <td>436.0</td>\n",
       "      <td>5654.0</td>\n",
       "    </tr>\n",
       "    <tr>\n",
       "      <th>2657</th>\n",
       "      <td>2015-12-01</td>\n",
       "      <td>Kansas</td>\n",
       "      <td>1349.0</td>\n",
       "      <td>12324.0</td>\n",
       "      <td>12127.0</td>\n",
       "    </tr>\n",
       "    <tr>\n",
       "      <th>2658</th>\n",
       "      <td>2015-12-01</td>\n",
       "      <td>Kentucky</td>\n",
       "      <td>258154.0</td>\n",
       "      <td>25569.0</td>\n",
       "      <td>19995.0</td>\n",
       "    </tr>\n",
       "    <tr>\n",
       "      <th>2659</th>\n",
       "      <td>2015-12-01</td>\n",
       "      <td>Louisiana</td>\n",
       "      <td>2023.0</td>\n",
       "      <td>27778.0</td>\n",
       "      <td>25151.0</td>\n",
       "    </tr>\n",
       "    <tr>\n",
       "      <th>2660</th>\n",
       "      <td>2015-12-01</td>\n",
       "      <td>Maine</td>\n",
       "      <td>360.0</td>\n",
       "      <td>7493.0</td>\n",
       "      <td>5410.0</td>\n",
       "    </tr>\n",
       "    <tr>\n",
       "      <th>2661</th>\n",
       "      <td>2015-12-01</td>\n",
       "      <td>Mariana Islands</td>\n",
       "      <td>0.0</td>\n",
       "      <td>0.0</td>\n",
       "      <td>1.0</td>\n",
       "    </tr>\n",
       "    <tr>\n",
       "      <th>2662</th>\n",
       "      <td>2015-12-01</td>\n",
       "      <td>Maryland</td>\n",
       "      <td>2459.0</td>\n",
       "      <td>4750.0</td>\n",
       "      <td>10241.0</td>\n",
       "    </tr>\n",
       "    <tr>\n",
       "      <th>2663</th>\n",
       "      <td>2015-12-01</td>\n",
       "      <td>Massachusetts</td>\n",
       "      <td>7297.0</td>\n",
       "      <td>9398.0</td>\n",
       "      <td>4762.0</td>\n",
       "    </tr>\n",
       "    <tr>\n",
       "      <th>2664</th>\n",
       "      <td>2015-12-01</td>\n",
       "      <td>Michigan</td>\n",
       "      <td>30983.0</td>\n",
       "      <td>25578.0</td>\n",
       "      <td>18826.0</td>\n",
       "    </tr>\n",
       "    <tr>\n",
       "      <th>2665</th>\n",
       "      <td>2015-12-01</td>\n",
       "      <td>Minnesota</td>\n",
       "      <td>30209.0</td>\n",
       "      <td>16319.0</td>\n",
       "      <td>15491.0</td>\n",
       "    </tr>\n",
       "    <tr>\n",
       "      <th>2666</th>\n",
       "      <td>2015-12-01</td>\n",
       "      <td>Mississippi</td>\n",
       "      <td>1381.0</td>\n",
       "      <td>20000.0</td>\n",
       "      <td>18908.0</td>\n",
       "    </tr>\n",
       "    <tr>\n",
       "      <th>2667</th>\n",
       "      <td>2015-12-01</td>\n",
       "      <td>Missouri</td>\n",
       "      <td>9228.0</td>\n",
       "      <td>43300.0</td>\n",
       "      <td>30091.0</td>\n",
       "    </tr>\n",
       "    <tr>\n",
       "      <th>2668</th>\n",
       "      <td>2015-12-01</td>\n",
       "      <td>Montana</td>\n",
       "      <td>1865.0</td>\n",
       "      <td>5902.0</td>\n",
       "      <td>7250.0</td>\n",
       "    </tr>\n",
       "    <tr>\n",
       "      <th>2669</th>\n",
       "      <td>2015-12-01</td>\n",
       "      <td>Nebraska</td>\n",
       "      <td>9569.0</td>\n",
       "      <td>282.0</td>\n",
       "      <td>4801.0</td>\n",
       "    </tr>\n",
       "    <tr>\n",
       "      <th>...</th>\n",
       "      <td>...</td>\n",
       "      <td>...</td>\n",
       "      <td>...</td>\n",
       "      <td>...</td>\n",
       "      <td>...</td>\n",
       "    </tr>\n",
       "    <tr>\n",
       "      <th>3270</th>\n",
       "      <td>2015-01-01</td>\n",
       "      <td>Minnesota</td>\n",
       "      <td>20089.0</td>\n",
       "      <td>8181.0</td>\n",
       "      <td>7949.0</td>\n",
       "    </tr>\n",
       "    <tr>\n",
       "      <th>3271</th>\n",
       "      <td>2015-01-01</td>\n",
       "      <td>Mississippi</td>\n",
       "      <td>837.0</td>\n",
       "      <td>6798.0</td>\n",
       "      <td>6220.0</td>\n",
       "    </tr>\n",
       "    <tr>\n",
       "      <th>3272</th>\n",
       "      <td>2015-01-01</td>\n",
       "      <td>Missouri</td>\n",
       "      <td>7340.0</td>\n",
       "      <td>21243.0</td>\n",
       "      <td>13943.0</td>\n",
       "    </tr>\n",
       "    <tr>\n",
       "      <th>3273</th>\n",
       "      <td>2015-01-01</td>\n",
       "      <td>Montana</td>\n",
       "      <td>943.0</td>\n",
       "      <td>2204.0</td>\n",
       "      <td>3380.0</td>\n",
       "    </tr>\n",
       "    <tr>\n",
       "      <th>3274</th>\n",
       "      <td>2015-01-01</td>\n",
       "      <td>Nebraska</td>\n",
       "      <td>3915.0</td>\n",
       "      <td>169.0</td>\n",
       "      <td>2057.0</td>\n",
       "    </tr>\n",
       "    <tr>\n",
       "      <th>3275</th>\n",
       "      <td>2015-01-01</td>\n",
       "      <td>Nevada</td>\n",
       "      <td>2061.0</td>\n",
       "      <td>3936.0</td>\n",
       "      <td>2553.0</td>\n",
       "    </tr>\n",
       "    <tr>\n",
       "      <th>3276</th>\n",
       "      <td>2015-01-01</td>\n",
       "      <td>New Hampshire</td>\n",
       "      <td>2940.0</td>\n",
       "      <td>4097.0</td>\n",
       "      <td>2652.0</td>\n",
       "    </tr>\n",
       "    <tr>\n",
       "      <th>3277</th>\n",
       "      <td>2015-01-01</td>\n",
       "      <td>New Jersey</td>\n",
       "      <td>0.0</td>\n",
       "      <td>3854.0</td>\n",
       "      <td>3163.0</td>\n",
       "    </tr>\n",
       "    <tr>\n",
       "      <th>3278</th>\n",
       "      <td>2015-01-01</td>\n",
       "      <td>New Mexico</td>\n",
       "      <td>471.0</td>\n",
       "      <td>4548.0</td>\n",
       "      <td>3689.0</td>\n",
       "    </tr>\n",
       "    <tr>\n",
       "      <th>3279</th>\n",
       "      <td>2015-01-01</td>\n",
       "      <td>New York</td>\n",
       "      <td>3923.0</td>\n",
       "      <td>9002.0</td>\n",
       "      <td>12478.0</td>\n",
       "    </tr>\n",
       "    <tr>\n",
       "      <th>3280</th>\n",
       "      <td>2015-01-01</td>\n",
       "      <td>North Carolina</td>\n",
       "      <td>23597.0</td>\n",
       "      <td>1291.0</td>\n",
       "      <td>13043.0</td>\n",
       "    </tr>\n",
       "    <tr>\n",
       "      <th>3281</th>\n",
       "      <td>2015-01-01</td>\n",
       "      <td>North Dakota</td>\n",
       "      <td>689.0</td>\n",
       "      <td>1672.0</td>\n",
       "      <td>2793.0</td>\n",
       "    </tr>\n",
       "    <tr>\n",
       "      <th>3282</th>\n",
       "      <td>2015-01-01</td>\n",
       "      <td>Ohio</td>\n",
       "      <td>0.0</td>\n",
       "      <td>26268.0</td>\n",
       "      <td>16186.0</td>\n",
       "    </tr>\n",
       "    <tr>\n",
       "      <th>3283</th>\n",
       "      <td>2015-01-01</td>\n",
       "      <td>Oklahoma</td>\n",
       "      <td>0.0</td>\n",
       "      <td>13234.0</td>\n",
       "      <td>9811.0</td>\n",
       "    </tr>\n",
       "    <tr>\n",
       "      <th>3284</th>\n",
       "      <td>2015-01-01</td>\n",
       "      <td>Oregon</td>\n",
       "      <td>62.0</td>\n",
       "      <td>10601.0</td>\n",
       "      <td>8766.0</td>\n",
       "    </tr>\n",
       "    <tr>\n",
       "      <th>3285</th>\n",
       "      <td>2015-01-01</td>\n",
       "      <td>Pennsylvania</td>\n",
       "      <td>20519.0</td>\n",
       "      <td>44966.0</td>\n",
       "      <td>7800.0</td>\n",
       "    </tr>\n",
       "    <tr>\n",
       "      <th>3286</th>\n",
       "      <td>2015-01-01</td>\n",
       "      <td>Puerto Rico</td>\n",
       "      <td>0.0</td>\n",
       "      <td>1031.0</td>\n",
       "      <td>148.0</td>\n",
       "    </tr>\n",
       "    <tr>\n",
       "      <th>3287</th>\n",
       "      <td>2015-01-01</td>\n",
       "      <td>Rhode Island</td>\n",
       "      <td>0.0</td>\n",
       "      <td>886.0</td>\n",
       "      <td>622.0</td>\n",
       "    </tr>\n",
       "    <tr>\n",
       "      <th>3288</th>\n",
       "      <td>2015-01-01</td>\n",
       "      <td>South Carolina</td>\n",
       "      <td>6266.0</td>\n",
       "      <td>8767.0</td>\n",
       "      <td>6156.0</td>\n",
       "    </tr>\n",
       "    <tr>\n",
       "      <th>3289</th>\n",
       "      <td>2015-01-01</td>\n",
       "      <td>South Dakota</td>\n",
       "      <td>0.0</td>\n",
       "      <td>2399.0</td>\n",
       "      <td>3631.0</td>\n",
       "    </tr>\n",
       "    <tr>\n",
       "      <th>3290</th>\n",
       "      <td>2015-01-01</td>\n",
       "      <td>Tennessee</td>\n",
       "      <td>19362.0</td>\n",
       "      <td>22197.0</td>\n",
       "      <td>15007.0</td>\n",
       "    </tr>\n",
       "    <tr>\n",
       "      <th>3291</th>\n",
       "      <td>2015-01-01</td>\n",
       "      <td>Texas</td>\n",
       "      <td>18530.0</td>\n",
       "      <td>44153.0</td>\n",
       "      <td>36397.0</td>\n",
       "    </tr>\n",
       "    <tr>\n",
       "      <th>3292</th>\n",
       "      <td>2015-01-01</td>\n",
       "      <td>Utah</td>\n",
       "      <td>12100.0</td>\n",
       "      <td>2923.0</td>\n",
       "      <td>3317.0</td>\n",
       "    </tr>\n",
       "    <tr>\n",
       "      <th>3293</th>\n",
       "      <td>2015-01-01</td>\n",
       "      <td>Vermont</td>\n",
       "      <td>0.0</td>\n",
       "      <td>1171.0</td>\n",
       "      <td>1081.0</td>\n",
       "    </tr>\n",
       "    <tr>\n",
       "      <th>3294</th>\n",
       "      <td>2015-01-01</td>\n",
       "      <td>Virgin Islands</td>\n",
       "      <td>67.0</td>\n",
       "      <td>7.0</td>\n",
       "      <td>4.0</td>\n",
       "    </tr>\n",
       "    <tr>\n",
       "      <th>3295</th>\n",
       "      <td>2015-01-01</td>\n",
       "      <td>Virginia</td>\n",
       "      <td>379.0</td>\n",
       "      <td>21023.0</td>\n",
       "      <td>14433.0</td>\n",
       "    </tr>\n",
       "    <tr>\n",
       "      <th>3296</th>\n",
       "      <td>2015-01-01</td>\n",
       "      <td>Washington</td>\n",
       "      <td>10516.0</td>\n",
       "      <td>13781.0</td>\n",
       "      <td>9419.0</td>\n",
       "    </tr>\n",
       "    <tr>\n",
       "      <th>3297</th>\n",
       "      <td>2015-01-01</td>\n",
       "      <td>West Virginia</td>\n",
       "      <td>1450.0</td>\n",
       "      <td>6881.0</td>\n",
       "      <td>5876.0</td>\n",
       "    </tr>\n",
       "    <tr>\n",
       "      <th>3298</th>\n",
       "      <td>2015-01-01</td>\n",
       "      <td>Wisconsin</td>\n",
       "      <td>4614.0</td>\n",
       "      <td>9703.0</td>\n",
       "      <td>9221.0</td>\n",
       "    </tr>\n",
       "    <tr>\n",
       "      <th>3299</th>\n",
       "      <td>2015-01-01</td>\n",
       "      <td>Wyoming</td>\n",
       "      <td>394.0</td>\n",
       "      <td>1646.0</td>\n",
       "      <td>1830.0</td>\n",
       "    </tr>\n",
       "  </tbody>\n",
       "</table>\n",
       "<p>660 rows × 5 columns</p>\n",
       "</div>"
      ],
      "text/plain": [
       "          month                 state    permit  handgun  long_gun\n",
       "2640 2015-12-01               Alabama   31359.0  47605.0   33710.0\n",
       "2641 2015-12-01                Alaska     245.0   5265.0    4638.0\n",
       "2642 2015-12-01               Arizona    2940.0  25562.0   14725.0\n",
       "2643 2015-12-01              Arkansas    4076.0  13780.0   15241.0\n",
       "2644 2015-12-01            California  119166.0  74399.0   48762.0\n",
       "2645 2015-12-01              Colorado    3265.0  34653.0   22880.0\n",
       "2646 2015-12-01           Connecticut   12190.0  17828.0    6337.0\n",
       "2647 2015-12-01              Delaware     297.0   3615.0    3274.0\n",
       "2648 2015-12-01  District of Columbia      16.0     76.0       3.0\n",
       "2649 2015-12-01               Florida   25044.0  86940.0   45769.0\n",
       "2650 2015-12-01               Georgia   30391.0  34974.0   25174.0\n",
       "2651 2015-12-01                  Guam       0.0    145.0      60.0\n",
       "2652 2015-12-01                Hawaii    1642.0      0.0       0.0\n",
       "2653 2015-12-01                 Idaho    2338.0   7023.0    7813.0\n",
       "2654 2015-12-01              Illinois  122900.0  37193.0   20864.0\n",
       "2655 2015-12-01               Indiana  139460.0  44150.0   26105.0\n",
       "2656 2015-12-01                  Iowa   19621.0    436.0    5654.0\n",
       "2657 2015-12-01                Kansas    1349.0  12324.0   12127.0\n",
       "2658 2015-12-01              Kentucky  258154.0  25569.0   19995.0\n",
       "2659 2015-12-01             Louisiana    2023.0  27778.0   25151.0\n",
       "2660 2015-12-01                 Maine     360.0   7493.0    5410.0\n",
       "2661 2015-12-01       Mariana Islands       0.0      0.0       1.0\n",
       "2662 2015-12-01              Maryland    2459.0   4750.0   10241.0\n",
       "2663 2015-12-01         Massachusetts    7297.0   9398.0    4762.0\n",
       "2664 2015-12-01              Michigan   30983.0  25578.0   18826.0\n",
       "2665 2015-12-01             Minnesota   30209.0  16319.0   15491.0\n",
       "2666 2015-12-01           Mississippi    1381.0  20000.0   18908.0\n",
       "2667 2015-12-01              Missouri    9228.0  43300.0   30091.0\n",
       "2668 2015-12-01               Montana    1865.0   5902.0    7250.0\n",
       "2669 2015-12-01              Nebraska    9569.0    282.0    4801.0\n",
       "...         ...                   ...       ...      ...       ...\n",
       "3270 2015-01-01             Minnesota   20089.0   8181.0    7949.0\n",
       "3271 2015-01-01           Mississippi     837.0   6798.0    6220.0\n",
       "3272 2015-01-01              Missouri    7340.0  21243.0   13943.0\n",
       "3273 2015-01-01               Montana     943.0   2204.0    3380.0\n",
       "3274 2015-01-01              Nebraska    3915.0    169.0    2057.0\n",
       "3275 2015-01-01                Nevada    2061.0   3936.0    2553.0\n",
       "3276 2015-01-01         New Hampshire    2940.0   4097.0    2652.0\n",
       "3277 2015-01-01            New Jersey       0.0   3854.0    3163.0\n",
       "3278 2015-01-01            New Mexico     471.0   4548.0    3689.0\n",
       "3279 2015-01-01              New York    3923.0   9002.0   12478.0\n",
       "3280 2015-01-01        North Carolina   23597.0   1291.0   13043.0\n",
       "3281 2015-01-01          North Dakota     689.0   1672.0    2793.0\n",
       "3282 2015-01-01                  Ohio       0.0  26268.0   16186.0\n",
       "3283 2015-01-01              Oklahoma       0.0  13234.0    9811.0\n",
       "3284 2015-01-01                Oregon      62.0  10601.0    8766.0\n",
       "3285 2015-01-01          Pennsylvania   20519.0  44966.0    7800.0\n",
       "3286 2015-01-01           Puerto Rico       0.0   1031.0     148.0\n",
       "3287 2015-01-01          Rhode Island       0.0    886.0     622.0\n",
       "3288 2015-01-01        South Carolina    6266.0   8767.0    6156.0\n",
       "3289 2015-01-01          South Dakota       0.0   2399.0    3631.0\n",
       "3290 2015-01-01             Tennessee   19362.0  22197.0   15007.0\n",
       "3291 2015-01-01                 Texas   18530.0  44153.0   36397.0\n",
       "3292 2015-01-01                  Utah   12100.0   2923.0    3317.0\n",
       "3293 2015-01-01               Vermont       0.0   1171.0    1081.0\n",
       "3294 2015-01-01        Virgin Islands      67.0      7.0       4.0\n",
       "3295 2015-01-01              Virginia     379.0  21023.0   14433.0\n",
       "3296 2015-01-01            Washington   10516.0  13781.0    9419.0\n",
       "3297 2015-01-01         West Virginia    1450.0   6881.0    5876.0\n",
       "3298 2015-01-01             Wisconsin    4614.0   9703.0    9221.0\n",
       "3299 2015-01-01               Wyoming     394.0   1646.0    1830.0\n",
       "\n",
       "[660 rows x 5 columns]"
      ]
     },
     "execution_count": 74,
     "metadata": {},
     "output_type": "execute_result"
    }
   ],
   "source": [
    "#extracted all 2015 data\n",
    "gun_2015 = df_gun[pd.DatetimeIndex(df_gun['month']).year == 2015]\n",
    "gun_2015"
   ]
  },
  {
   "cell_type": "code",
   "execution_count": 75,
   "metadata": {
    "scrolled": true
   },
   "outputs": [],
   "source": [
    "#sumed up permit number by state,changed the datatype to int which is the same with datatype of df_cen_income\n",
    "gun_2015_sum = gun_2015.groupby('state')['permit'].sum()\n",
    "gun_2015_sum = gun_2015_sum.astype(int)"
   ]
  },
  {
   "cell_type": "markdown",
   "metadata": {},
   "source": [
    "Check if the two datasets have the same elements to draw a plot"
   ]
  },
  {
   "cell_type": "code",
   "execution_count": 76,
   "metadata": {},
   "outputs": [
    {
     "data": {
      "text/plain": [
       "Index(['District of Columbia', 'Guam', 'Mariana Islands', 'Puerto Rico',\n",
       "       'Virgin Islands'],\n",
       "      dtype='object')"
      ]
     },
     "execution_count": 76,
     "metadata": {},
     "output_type": "execute_result"
    }
   ],
   "source": [
    "gun_2015_sum.index.difference(df_cen_income.index)"
   ]
  },
  {
   "cell_type": "code",
   "execution_count": 77,
   "metadata": {
    "scrolled": true
   },
   "outputs": [],
   "source": [
    "#deleted the indexes which not in both datasets\n",
    "gun_2015_sum.drop(['District of Columbia', 'Guam', 'Mariana Islands', 'Puerto Rico',\n",
    "       'Virgin Islands'],inplace = True)"
   ]
  },
  {
   "cell_type": "code",
   "execution_count": 78,
   "metadata": {},
   "outputs": [
    {
     "data": {
      "text/plain": [
       "Index([], dtype='object', name='state')"
      ]
     },
     "execution_count": 78,
     "metadata": {},
     "output_type": "execute_result"
    }
   ],
   "source": [
    "#checked if any not shared indexes exsit\n",
    "gun_2015_sum.index.difference(df_cen_income.index)"
   ]
  },
  {
   "cell_type": "code",
   "execution_count": 79,
   "metadata": {},
   "outputs": [
    {
     "data": {
      "text/plain": [
       "Index([], dtype='object')"
      ]
     },
     "execution_count": 79,
     "metadata": {},
     "output_type": "execute_result"
    }
   ],
   "source": [
    "df_cen_income.index.difference(gun_2015_sum.index)"
   ]
  },
  {
   "cell_type": "code",
   "execution_count": 80,
   "metadata": {},
   "outputs": [
    {
     "data": {
      "text/plain": [
       "(50, 1)"
      ]
     },
     "execution_count": 80,
     "metadata": {},
     "output_type": "execute_result"
    }
   ],
   "source": [
    "df_cen_income.shape"
   ]
  },
  {
   "cell_type": "code",
   "execution_count": 81,
   "metadata": {},
   "outputs": [
    {
     "data": {
      "text/plain": [
       "(50,)"
      ]
     },
     "execution_count": 81,
     "metadata": {},
     "output_type": "execute_result"
    }
   ],
   "source": [
    "gun_2015_sum.shape"
   ]
  },
  {
   "cell_type": "code",
   "execution_count": 87,
   "metadata": {},
   "outputs": [
    {
     "data": {
      "text/plain": [
       "dtype('int64')"
      ]
     },
     "execution_count": 87,
     "metadata": {},
     "output_type": "execute_result"
    }
   ],
   "source": [
    "gun_2015_sum.dtypes"
   ]
  },
  {
   "cell_type": "code",
   "execution_count": 88,
   "metadata": {},
   "outputs": [
    {
     "data": {
      "text/plain": [
       "48    int64\n",
       "dtype: object"
      ]
     },
     "execution_count": 88,
     "metadata": {},
     "output_type": "execute_result"
    }
   ],
   "source": [
    "df_cen_income.dtypes"
   ]
  },
  {
   "cell_type": "code",
   "execution_count": 84,
   "metadata": {},
   "outputs": [
    {
     "data": {
      "text/plain": [
       "Index(['Alabama', 'Alaska', 'Arizona', 'Arkansas', 'California', 'Colorado',\n",
       "       'Connecticut', 'Delaware', 'Florida', 'Georgia', 'Hawaii', 'Idaho',\n",
       "       'Illinois', 'Indiana', 'Iowa', 'Kansas', 'Kentucky', 'Louisiana',\n",
       "       'Maine', 'Maryland', 'Massachusetts', 'Michigan', 'Minnesota',\n",
       "       'Mississippi', 'Missouri', 'Montana', 'Nebraska', 'Nevada',\n",
       "       'New Hampshire', 'New Jersey', 'New Mexico', 'New York',\n",
       "       'North Carolina', 'North Dakota', 'Ohio', 'Oklahoma', 'Oregon',\n",
       "       'Pennsylvania', 'Rhode Island', 'South Carolina', 'South Dakota',\n",
       "       'Tennessee', 'Texas', 'Utah', 'Vermont', 'Virginia', 'Washington',\n",
       "       'West Virginia', 'Wisconsin', 'Wyoming'],\n",
       "      dtype='object')"
      ]
     },
     "execution_count": 84,
     "metadata": {},
     "output_type": "execute_result"
    }
   ],
   "source": [
    "df_cen_income.index"
   ]
  },
  {
   "cell_type": "code",
   "execution_count": 85,
   "metadata": {},
   "outputs": [
    {
     "data": {
      "text/plain": [
       "Index(['Alabama', 'Alaska', 'Arizona', 'Arkansas', 'California', 'Colorado',\n",
       "       'Connecticut', 'Delaware', 'Florida', 'Georgia', 'Hawaii', 'Idaho',\n",
       "       'Illinois', 'Indiana', 'Iowa', 'Kansas', 'Kentucky', 'Louisiana',\n",
       "       'Maine', 'Maryland', 'Massachusetts', 'Michigan', 'Minnesota',\n",
       "       'Mississippi', 'Missouri', 'Montana', 'Nebraska', 'Nevada',\n",
       "       'New Hampshire', 'New Jersey', 'New Mexico', 'New York',\n",
       "       'North Carolina', 'North Dakota', 'Ohio', 'Oklahoma', 'Oregon',\n",
       "       'Pennsylvania', 'Rhode Island', 'South Carolina', 'South Dakota',\n",
       "       'Tennessee', 'Texas', 'Utah', 'Vermont', 'Virginia', 'Washington',\n",
       "       'West Virginia', 'Wisconsin', 'Wyoming'],\n",
       "      dtype='object', name='state')"
      ]
     },
     "execution_count": 85,
     "metadata": {},
     "output_type": "execute_result"
    }
   ],
   "source": [
    "gun_2015_sum.index"
   ]
  },
  {
   "cell_type": "markdown",
   "metadata": {},
   "source": [
    "Draw a plot to show the correlation between capita income and permit checks"
   ]
  },
  {
   "cell_type": "code",
   "execution_count": 86,
   "metadata": {},
   "outputs": [
    {
     "data": {
      "image/png": "[encoded data removed]",
      "text/plain": [
       "<matplotlib.figure.Figure at 0x7ff5fbb80f98>"
      ]
     },
     "metadata": {
      "needs_background": "light"
     },
     "output_type": "display_data"
    }
   ],
   "source": [
    "plt.figure(figsize = (12,5))\n",
    "sns.set_style('darkgrid')\n",
    "sns.regplot(df_cen_income, gun_2015_sum, ci=None).set(title = 'Capita income VS permit checks', xlabel = 'Capita income', ylabel = 'permit checks' )\n",
    "plt.ylim(top = 700000)\n",
    "plt.show()"
   ]
  },
  {
   "cell_type": "markdown",
   "metadata": {},
   "source": [
    "From the plot above we can see that the data in 2015 shows that the permit checks may have some correlation with capita income, but the correlation is not strong. \n",
    "\n",
    "Limitation: there may be a lot of factors that influnce the permit checks, like some influential securify events, \n",
    "ethnic factors and so on."
   ]
  },
  {
   "cell_type": "markdown",
   "metadata": {},
   "source": [
    "<a id='conclusions'></a>\n",
    "## Conclusions\n",
    "1, From the plot above, we can see since 2006, permit checks increased dramatically year by year till 2016, after that the number begun to decrease.\n",
    "\n",
    "Limitation: The number in this frame may not include all permit checks in every year in every state, so we need to aware of the accuracy. And also this dosen't present all the gun trade happend in each year, since there are many trades didn't do permit checks like buy guns directly from gun owners.\n",
    "\n",
    "2, From the plot above, we can see the permits checks of most years are in about 0.2*le7, second most in from 0.4*le7 to 0.6*le7.\n",
    "\n",
    "Limitation: The number in this frame may not include all permit checks in every year in every state, so we need to aware of the accuracy. And also this dosen't present all the gun trade happend in each year, since there are many trades didn't do permit checks like buy guns directly from gun owners.\n",
    "\n",
    "3, From the plot above, we can see that permit checks reached the top in March, fell to the bottom in September. Generally from January to April have more permit checks, from June to October have less checks.\n",
    "\n",
    "Limitation: The number in this frame may not include all permit checks in every month, so we need to aware of the accuracy. And also this dosen't present all the gun trade happend in each month, since there are many trades didn't do permit checks like buy guns directly from gun owners.\n",
    "\n",
    "4, From the plot above we can see that the data in 2015 shows that the permit checks may have some correlation with capita income, but the correlation is not strong. \n",
    "\n",
    "Limitation: there may be a lot of factors that influnce the permit checks, like some influential securify events, \n",
    "ethnic factors and so on."
   ]
  },
  {
   "cell_type": "code",
   "execution_count": 16,
   "metadata": {},
   "outputs": [
    {
     "data": {
      "text/plain": [
       "0"
      ]
     },
     "execution_count": 16,
     "metadata": {},
     "output_type": "execute_result"
    }
   ],
   "source": [
    "from subprocess import call\n",
    "call(['python', '-m', 'nbconvert', 'Investigate_a_Dataset.ipynb'])"
   ]
  }
 ],
 "metadata": {
  "kernelspec": {
   "display_name": "Python 3",
   "language": "python",
   "name": "python3"
  },
  "language_info": {
   "codemirror_mode": {
    "name": "ipython",
    "version": 3
   },
   "file_extension": ".py",
   "mimetype": "text/x-python",
   "name": "python",
   "nbconvert_exporter": "python",
   "pygments_lexer": "ipython3",
   "version": "3.7.4"
  }
 },
 "nbformat": 4,
 "nbformat_minor": 2
}
